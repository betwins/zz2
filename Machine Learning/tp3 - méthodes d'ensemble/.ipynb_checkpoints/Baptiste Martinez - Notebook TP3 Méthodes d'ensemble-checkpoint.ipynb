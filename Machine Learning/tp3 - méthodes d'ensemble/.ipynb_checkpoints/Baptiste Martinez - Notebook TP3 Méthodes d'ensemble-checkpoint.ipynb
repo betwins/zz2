{
 "cells": [
  {
   "cell_type": "markdown",
   "metadata": {},
   "source": [
    "# Apprentissage statistique\n",
    "\n",
    "<p>Baptiste Martinez, le 2 février 2018</p>\n",
    "<p><font color='red'>On se contente de la partie multi-classes pour ce TP</font></p>\n",
    "\n",
    "## TP 3 - Méthodes d'ensemble\n",
    "\n",
    "<p>L'objectif est d'implémenter plusieurs classifieurs dans un jeu de données afin de classer les points selon les attributs lus dans la matrice. C'est ce qu'on appelle le multi-classe.</p>"
   ]
  },
  {
   "cell_type": "code",
   "execution_count": 31,
   "metadata": {},
   "outputs": [],
   "source": [
    "#-*- coding: utf-8 -*-\n",
    "\n",
    "import numpy as np\n",
    "import matplotlib.pyplot as plt\n",
    "from sklearn.svm import SVC\n",
    "from sklearn.tree import DecisionTreeClassifier\n",
    "from sklearn.model_selection import train_test_split"
   ]
  },
  {
   "cell_type": "markdown",
   "metadata": {},
   "source": [
    "Pour ouvrir et lire un fichier"
   ]
  },
  {
   "cell_type": "code",
   "execution_count": 32,
   "metadata": {
    "collapsed": true
   },
   "outputs": [],
   "source": [
    "fic = open(\"CNAE.txt\", \"r\")\n",
    "fic.close()"
   ]
  },
  {
   "cell_type": "code",
   "execution_count": 24,
   "metadata": {},
   "outputs": [
    {
     "name": "stdout",
     "output_type": "stream",
     "text": [
      "(1080, 856)\n"
     ]
    }
   ],
   "source": [
    "y = np.loadtxt('CNAE.txt',dtype=int,delimiter=',',usecols=0)\n",
    "X = np.loadtxt('CNAE.txt',dtype=int,delimiter=',',usecols=(np.arange(1,857)))\n",
    "print(np.shape(X)) #taille de la matrice"
   ]
  },
  {
   "cell_type": "markdown",
   "metadata": {},
   "source": [
    "Séparation des emsembles en apprentissage et test"
   ]
  },
  {
   "cell_type": "code",
   "execution_count": 35,
   "metadata": {},
   "outputs": [
    {
     "name": "stdout",
     "output_type": "stream",
     "text": [
      "856\n"
     ]
    }
   ],
   "source": [
    "Xtrain, Xtest, ytrain, ytest = train_test_split(X,y,test_size = 0.2)\n",
    "\n",
    "#nombre de données en apprentissage\n",
    "napp = np.size(ytrain)\n",
    "\n",
    "#nombre de données en test\n",
    "ntest = np.size(ytest)\n",
    "\n",
    "#nombre de colonnes de la matrice\n",
    "ndim = np.shape(X)[1] "
   ]
  },
  {
   "cell_type": "markdown",
   "metadata": {},
   "source": [
    "Construire adaboost sur chaque feature pour chaque 1 contre tous. On récupère ensuite pour chaque classifieur la liste ordonnées des indices des features, de la moins performante à la plus performante."
   ]
  },
  {
   "cell_type": "code",
   "execution_count": 85,
   "metadata": {},
   "outputs": [
    {
     "name": "stdout",
     "output_type": "stream",
     "text": [
      "[[-1. -1. -1. ...,  1. -1. -1.]\n",
      " [-1. -1. -1. ..., -1. -1. -1.]\n",
      " [-1. -1. -1. ..., -1. -1. -1.]\n",
      " ..., \n",
      " [-1. -1. -1. ..., -1. -1.  1.]\n",
      " [-1. -1. -1. ..., -1. -1. -1.]\n",
      " [-1. -1.  1. ..., -1. -1. -1.]]\n"
     ]
    }
   ],
   "source": [
    "clf = []\n",
    "inds = []\n",
    "perfDim = []\n",
    "alpha = []\n",
    "yapp = -np.ones((9,napp))\n",
    "rbf = []\n",
    "for classes in range(9):\n",
    "    yapp[classes, np.where(ytrain == classes + 1)] = 1\n",
    "    rbf.append(SVC(C=1.0, kernel='rbf', gamma='auto'))\n",
    "print(yapp)\n",
    "def classifier():\n",
    "    #Dans chaque boucle, créer les 9 y\n",
    "    #for j in range(ndim): #appel du classifieur\n",
    "    print(\"ok\")\n",
    "        \n",
    "#utiliser np.copy pour copier les vecteurs y1,...,y9"
   ]
  },
  {
   "cell_type": "markdown",
   "metadata": {},
   "source": [
    "On veut un yapp (vecteur) contenant la première colone de la matrice (chiffres de 1 à 9) et 9 y1,...,y9 qui contiendront les valeurs +1 (si le point est bien placé) et -1 (si le point est mal classé).\n",
    "Puis, on exécute clas1(X,y1), clas2(X,y2),...,clas9(X,y9) en utilisant un SVM"
   ]
  },
  {
   "cell_type": "markdown",
   "metadata": {},
   "source": [
    "Création d'un SVM pour vérifier le classement effectué sur les données"
   ]
  },
  {
   "cell_type": "code",
   "execution_count": 81,
   "metadata": {},
   "outputs": [
    {
     "data": {
      "text/plain": [
       "SVC(C=1.0, cache_size=200, class_weight=None, coef0=0.0,\n",
       "  decision_function_shape='ovr', degree=3, gamma='auto', kernel='rbf',\n",
       "  max_iter=-1, probability=False, random_state=None, shrinking=True,\n",
       "  tol=0.001, verbose=False)"
      ]
     },
     "execution_count": 81,
     "metadata": {},
     "output_type": "execute_result"
    }
   ],
   "source": [
    "clf = SVC(C=1.0, kernel='rbf', gamma='auto')\n",
    "clf.fit(Xtrain,ytrain)"
   ]
  },
  {
   "cell_type": "code",
   "execution_count": null,
   "metadata": {
    "collapsed": true
   },
   "outputs": [],
   "source": []
  },
  {
   "cell_type": "markdown",
   "metadata": {},
   "source": [
    "Fin du tp: ne plus utiliser le SVM mais parcourir par colonne."
   ]
  },
  {
   "cell_type": "code",
   "execution_count": null,
   "metadata": {
    "collapsed": true
   },
   "outputs": [],
   "source": []
  }
 ],
 "metadata": {
  "kernelspec": {
   "display_name": "Python 3",
   "language": "python",
   "name": "python3"
  },
  "language_info": {
   "codemirror_mode": {
    "name": "ipython",
    "version": 3
   },
   "file_extension": ".py",
   "mimetype": "text/x-python",
   "name": "python",
   "nbconvert_exporter": "python",
   "pygments_lexer": "ipython3",
   "version": "3.6.3"
  }
 },
 "nbformat": 4,
 "nbformat_minor": 2
}
